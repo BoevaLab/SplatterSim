{
 "cells": [
  {
   "cell_type": "code",
   "execution_count": null,
   "id": "cb5cede7",
   "metadata": {},
   "outputs": [],
   "source": [
    "import sys\n",
    "sys.path.insert(0, \"../\")"
   ]
  },
  {
   "cell_type": "code",
   "execution_count": null,
   "id": "712fe702",
   "metadata": {},
   "outputs": [],
   "source": [
    "import infercnvpy\n",
    "import pandas as pd\n",
    "import pathlib as pl\n",
    "import numpy as np\n",
    "import scanpy as sc"
   ]
  },
  {
   "cell_type": "code",
   "execution_count": null,
   "id": "6153fe17",
   "metadata": {},
   "outputs": [],
   "source": [
    "import simul.base.utils as utils\n",
    "import simul.simulate.run as run\n",
    "import simul.cnv.profiles as cnvprofile\n",
    "import simul.cnv.sampling as cnvsample\n",
    "import simul.patients.dataset as patut\n",
    "from simul.base.config import SimCellConfig\n",
    "from simul.simulate.utils import save_dataset"
   ]
  },
  {
   "cell_type": "markdown",
   "id": "aca6de56",
   "metadata": {},
   "source": [
    "# Create dataset"
   ]
  },
  {
   "cell_type": "code",
   "execution_count": null,
   "id": "2285bf88",
   "metadata": {},
   "outputs": [],
   "source": [
    "# first set the random seed\n",
    "rs = 1"
   ]
  },
  {
   "cell_type": "code",
   "execution_count": null,
   "id": "904336e3",
   "metadata": {},
   "outputs": [],
   "source": [
    "anchors = [\"CD4\",\"CD8A\",\"CD7\"]"
   ]
  },
  {
   "cell_type": "code",
   "execution_count": null,
   "id": "cc35a18e",
   "metadata": {},
   "outputs": [],
   "source": [
    "adatavar = pd.read_csv(\"/path/to/data/with/chromosome/positions\",index_col=0)"
   ]
  },
  {
   "cell_type": "code",
   "execution_count": null,
   "id": "152ed5fc",
   "metadata": {},
   "outputs": [],
   "source": [
    "genome = cnvprofile.Genome(genes_df=adatavar, chromosome_column=\"chromosome\", start_column=\"start\")"
   ]
  },
  {
   "cell_type": "code",
   "execution_count": null,
   "id": "e7ca66d7",
   "metadata": {},
   "outputs": [],
   "source": [
    "vartosave = adatavar[[\"chromosome\",\"start\",\"end\"]]"
   ]
  },
  {
   "cell_type": "code",
   "execution_count": null,
   "id": "8922d4b5",
   "metadata": {},
   "outputs": [],
   "source": [
    "CNVGenerator = cnvprofile.CNVPerBatchGenerator(\n",
    "        genome=genome,\n",
    "        anchors = anchors,\n",
    "        chromosomes_gain=[\"chr1\",\"chr2\",\"chr4\",\"chr5\",\"chr10\",\"chr11\",\"chr14\",\"chr19\",\"chr20\"],\n",
    "        #chromosomes_gain=[\"chr1\",\"chr4\",\"chr10\",\"chr14\",\"chr20\"],\n",
    "        chromosomes_loss=[\"chr3\",\"chr6\",\"chr8\",\"chr13\",\"chr16\",\"chr18\",],\n",
    "        #chromosomes_loss=[\"chr3\",\"chr8\",\"chr16\",\"chr18\",],\n",
    "        dropout=0.8, # normal\n",
    "        #dropout=0.5, # high CNV\n",
    "        dropout_child=0.8,\n",
    "        p_anchor = 0.2,\n",
    "        min_region_length=200,\n",
    "        max_region_length=300,\n",
    "        seed = rs,\n",
    ")"
   ]
  },
  {
   "cell_type": "code",
   "execution_count": null,
   "id": "d0a0f4a5",
   "metadata": {},
   "outputs": [],
   "source": [
    "dataset = patut.Dataset(\n",
    "    n_batches=20,\n",
    "    n_programs=3,\n",
    "    CNVGenerator=CNVGenerator,\n",
    "    seed=rs,\n",
    "    n_subclones_min=1,\n",
    "    n_subclones_max=3,\n",
    "    n_malignant_max=600,\n",
    "    n_malignant_min=300,\n",
    "    n_healthy_max=500,\n",
    "    n_healthy_min=300,\n",
    "    subclone_alpha=5,\n",
    "    \n",
    ")"
   ]
  },
  {
   "cell_type": "code",
   "execution_count": null,
   "id": "4897e29d",
   "metadata": {},
   "outputs": [],
   "source": [
    "utils.plot_subclone_profile(dataset=dataset,filename=\"figures/heatmap_highcnv_subclones.png\")"
   ]
  },
  {
   "cell_type": "code",
   "execution_count": null,
   "id": "e12b1571",
   "metadata": {},
   "outputs": [],
   "source": [
    "for pat in dataset.patients:\n",
    "    print(pat.batch, pat.n_total_cells(), pat.subclone_proportions)"
   ]
  },
  {
   "cell_type": "code",
   "execution_count": null,
   "id": "fdeacede",
   "metadata": {},
   "outputs": [],
   "source": [
    "anchor_alphas = utils.generate_anchor_alphas(anchors=anchors, alpha_add=10, start_alpha=[5,10,10])"
   ]
  },
  {
   "cell_type": "code",
   "execution_count": null,
   "id": "10c252df",
   "metadata": {},
   "outputs": [],
   "source": [
    "### LEAVE AS IS\n",
    "MIN_PROGRAMS = 2\n",
    "DROPOUT = 0"
   ]
  },
  {
   "cell_type": "code",
   "execution_count": null,
   "id": "592d3e1a",
   "metadata": {},
   "outputs": [],
   "source": [
    "distribution = cnvsample.generate_probabilities(\n",
    "    anchors_to_alphas=anchor_alphas,\n",
    "    batches=dataset.batches,\n",
    "    min_programs=MIN_PROGRAMS,\n",
    "    prob_dropout=DROPOUT,\n",
    "    program_names=dataset.programs,\n",
    "    seed=rs,\n",
    ")"
   ]
  },
  {
   "cell_type": "code",
   "execution_count": null,
   "id": "55f62669",
   "metadata": {
    "scrolled": true
   },
   "outputs": [],
   "source": [
    "distribution._conditional_probability"
   ]
  },
  {
   "cell_type": "code",
   "execution_count": null,
   "id": "546f449f",
   "metadata": {},
   "outputs": [],
   "source": [
    "celltypes = [\"Macro\",\"Plasma\",\"program1\",\"program2\",\"program3\"]"
   ]
  },
  {
   "cell_type": "code",
   "execution_count": null,
   "id": "c2147670",
   "metadata": {},
   "outputs": [],
   "source": []
  },
  {
   "cell_type": "code",
   "execution_count": null,
   "id": "cb6a6029",
   "metadata": {},
   "outputs": [],
   "source": [
    "full_obs = run.simulate_full_obs(dataset=dataset, prob_dist=distribution, p_drop = [0.3, 0.2])"
   ]
  },
  {
   "cell_type": "code",
   "execution_count": null,
   "id": "57e43489",
   "metadata": {},
   "outputs": [],
   "source": [
    "n_cells = np.sum([full_obs[pat].shape[0] for pat in full_obs])\n",
    "\n",
    "config = SimCellConfig(random_seed=rs, \n",
    "                       n_genes=adatavar.shape[0], \n",
    "                       batch_effect=True,\n",
    "                        n_cells=n_cells, group_names=celltypes, \n",
    "                       batch_names=list(full_obs.keys()),\n",
    "                       libsize_scale=0.25,\n",
    "                       libsize_loc=10,\n",
    "                       p_de_list=np.array([0.2,0.2,0.1,0.1,0.1]), \n",
    "                      p_down_list=np.array([0.5,0.5,0.5,0.5,0.5]), \n",
    "                      de_location_list=np.array([0.4,0.4,0.25,0.25,0.25]),\n",
    "                      de_scale_list=np.array([0.5,0.5,0.1,0.1,0.1]), \n",
    "                       pb_de_list=0.1, \n",
    "                       bde_location_list=0.05, \n",
    "                       bde_scale_list=0.1, shared_cnv=False)\n",
    "\n",
    "rng = config.create_rng()"
   ]
  },
  {
   "cell_type": "code",
   "execution_count": null,
   "id": "9ddac386",
   "metadata": {
    "scrolled": true
   },
   "outputs": [],
   "source": [
    "counts, de_facs_group, de_facs_be, gain_expr_full, loss_expr_full = run.simulate_dataset(config=config, \n",
    "                                                         rng=rng, \n",
    "                                                         full_obs=full_obs, \n",
    "                                                         dataset=dataset)"
   ]
  },
  {
   "cell_type": "code",
   "execution_count": null,
   "id": "9c13b4b5",
   "metadata": {
    "scrolled": true
   },
   "outputs": [],
   "source": [
    "adatas = run.counts_to_adata(counts_pp=counts, \n",
    "                         observations=full_obs, var=vartosave)"
   ]
  },
  {
   "cell_type": "code",
   "execution_count": null,
   "id": "224cb758",
   "metadata": {},
   "outputs": [],
   "source": []
  },
  {
   "cell_type": "code",
   "execution_count": null,
   "id": "a98a4d2a",
   "metadata": {
    "scrolled": true
   },
   "outputs": [],
   "source": [
    "ds_name = \"morecells_2\"\n",
    "savedir = pl.Path(\"/path/to/save/dir\")\n",
    "\n",
    "save_dataset(adatas=adatas, \n",
    "             ds_name=ds_name, \n",
    "             savedir=savedir, \n",
    "             de_group=pd.DataFrame(de_facs_group),\n",
    "             de_batch=pd.DataFrame(de_facs_be),\n",
    "             gain_expr_full=gain_expr_full,\n",
    "             loss_expr_full=loss_expr_full,\n",
    "             config=config)\n",
    "\n"
   ]
  },
  {
   "cell_type": "markdown",
   "id": "fab108b6",
   "metadata": {},
   "source": [
    "# Analyze simulated data"
   ]
  },
  {
   "cell_type": "code",
   "execution_count": null,
   "id": "57c72ffc",
   "metadata": {},
   "outputs": [],
   "source": [
    "adatas = []\n",
    "for f in (savedir / ds_name).iterdir():\n",
    "    if \"patient\" in f.stem:\n",
    "        print(f.stem)\n",
    "        adatas.append(sc.read_h5ad(f))"
   ]
  },
  {
   "cell_type": "code",
   "execution_count": null,
   "id": "c4273354",
   "metadata": {},
   "outputs": [],
   "source": [
    "simadata = adatas[0].concatenate(*adatas[1:])"
   ]
  },
  {
   "cell_type": "code",
   "execution_count": null,
   "id": "4d6875cb",
   "metadata": {},
   "outputs": [],
   "source": [
    "sc.pp.calculate_qc_metrics(simadata, percent_top=None, log1p=True, inplace=True)\n",
    "\n",
    "sc.pp.normalize_total(simadata, target_sum=10000)\n",
    "sc.pp.log1p(simadata)"
   ]
  },
  {
   "cell_type": "code",
   "execution_count": null,
   "id": "0e37fac3",
   "metadata": {},
   "outputs": [],
   "source": [
    "maladata = simadata[simadata.obs.malignant_key==\"malignant\"].copy()\n",
    "sc.pp.highly_variable_genes(maladata, n_top_genes=2000)\n",
    "simadata = simadata[:,maladata.var.highly_variable].copy()"
   ]
  },
  {
   "cell_type": "code",
   "execution_count": null,
   "id": "eba7d16a",
   "metadata": {},
   "outputs": [],
   "source": [
    "sc.pp.neighbors(simadata)\n",
    "sc.tl.umap(simadata)"
   ]
  },
  {
   "cell_type": "code",
   "execution_count": null,
   "id": "41a13ed9",
   "metadata": {},
   "outputs": [],
   "source": [
    "simadata.obs[\"pat_subclone\"] = simadata.obs.subclone.astype(str) + \"_\" + simadata.obs.batch.astype(str)\n",
    "simadata.obs[\"pat_subclone\"] = simadata.obs[\"pat_subclone\"].apply(lambda x: \"NA\" if \"NA\" in x else x)"
   ]
  },
  {
   "cell_type": "code",
   "execution_count": null,
   "id": "c96453d3",
   "metadata": {
    "scrolled": true
   },
   "outputs": [],
   "source": [
    "sc.pl.umap(simadata,color=[\"batch\",\"pat_subclone\",\"malignant_key\",\n",
    " \"program\",\"log1p_total_counts\",] ,ncols=2, wspace=0.25,\n",
    "                 save=f\"{ds_name}.png\")"
   ]
  },
  {
   "cell_type": "code",
   "execution_count": null,
   "id": "8a2bebcf",
   "metadata": {},
   "outputs": [],
   "source": [
    "sc.pp.normalize_total(adatas[3],target_sum=10000)\n",
    "sc.pp.log1p(adatas[3])"
   ]
  },
  {
   "cell_type": "code",
   "execution_count": null,
   "id": "76eeadc9",
   "metadata": {},
   "outputs": [],
   "source": [
    "infercnvpy.tl.infercnv(adatas[3],reference_key=\"program\",reference_cat=[\"Macro\",\"Plasma\"],window_size=200)"
   ]
  },
  {
   "cell_type": "code",
   "execution_count": null,
   "id": "36670ab6",
   "metadata": {},
   "outputs": [],
   "source": [
    "infercnvpy.pl.chromosome_heatmap(adatas[3],groupby=\"subclone\")"
   ]
  },
  {
   "cell_type": "code",
   "execution_count": null,
   "id": "41ab2dfd",
   "metadata": {},
   "outputs": [],
   "source": [
    "utils.plot_cnv_heatmap(dataset=dataset, patient=\"patient11\", var=adatavar)"
   ]
  }
 ],
 "metadata": {
  "kernelspec": {
   "display_name": "Python 3",
   "language": "python",
   "name": "python3"
  },
  "language_info": {
   "codemirror_mode": {
    "name": "ipython",
    "version": 3
   },
   "file_extension": ".py",
   "mimetype": "text/x-python",
   "name": "python",
   "nbconvert_exporter": "python",
   "pygments_lexer": "ipython3",
   "version": "3.8.8"
  }
 },
 "nbformat": 4,
 "nbformat_minor": 5
}
